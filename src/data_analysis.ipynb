{
 "cells": [
  {
   "cell_type": "code",
   "execution_count": 1,
   "metadata": {},
   "outputs": [],
   "source": [
    "from torchvision.datasets import CIFAR10\n",
    "from torch_geometric.transforms import ToSLIC, RadiusGraph\n",
    "import torchvision.transforms as T\n",
    "import matplotlib.pyplot as plt\n",
    "import numpy as np\n",
    "import torch\n",
    "import torch_geometric.data as data\n",
    "import networkx as nx\n",
    "from torch_geometric.utils import grid, contains_self_loops, remove_self_loops"
   ]
  },
  {
   "cell_type": "code",
   "execution_count": 2,
   "metadata": {},
   "outputs": [],
   "source": [
    "transform = T.ToTensor()\n",
    "\n",
    "# Download the training dataset\n",
    "train_dataset = CIFAR10(root='../data', train=True, download=False, transform=transform)\n",
    "\n",
    "# Download the test dataset\n",
    "test_dataset = CIFAR10(root='../data', train=False, download=False, transform=transform)"
   ]
  },
  {
   "cell_type": "code",
   "execution_count": 3,
   "metadata": {},
   "outputs": [
    {
     "data": {
      "text/plain": [
       "<matplotlib.image.AxesImage at 0x7ff50d1ed9f0>"
      ]
     },
     "execution_count": 3,
     "metadata": {},
     "output_type": "execute_result"
    },
    {
     "data": {
      "image/png": "[encoded data removed]",
      "text/plain": [
       "<Figure size 640x480 with 1 Axes>"
      ]
     },
     "metadata": {},
     "output_type": "display_data"
    }
   ],
   "source": [
    "im_s = train_dataset[20][0].permute(1, 2, 0)\n",
    "plt.imshow(im_s)"
   ]
  },
  {
   "cell_type": "code",
   "execution_count": 4,
   "metadata": {},
   "outputs": [],
   "source": [
    "#TODO: make it a function\n",
    "edge_index, node_pos = grid(32, 32) # 32x32 grid presented as a graph\n",
    "\n",
    "g_train_dataset = []\n",
    "\n",
    "for im, label in train_dataset:\n",
    "    im = im.permute(1, 2, 0) # permute so to have the channels as the last dimension\n",
    "    rgb_values = im[node_pos[:, 0].long(), node_pos[:, 1].long()]  # each pixel is a node of the graph\n",
    "\n",
    "    g_train_dataset.append(data.Data(x=rgb_values, pos=node_pos, edge_index=edge_index, y=label))"
   ]
  },
  {
   "cell_type": "code",
   "execution_count": 5,
   "metadata": {},
   "outputs": [],
   "source": [
    "g_test_dataset = []\n",
    "\n",
    "for im, label in test_dataset:\n",
    "    im = im.permute(1, 2, 0)\n",
    "    rgb_values = im[node_pos[:, 0].long(), node_pos[:, 1].long()]  # each pixel is a node of the graph\n",
    "\n",
    "    g_test_dataset.append(data.Data(x=rgb_values, pos=node_pos, edge_index=edge_index, y=label))"
   ]
  }
 ],
 "metadata": {
  "kernelspec": {
   "display_name": "distr",
   "language": "python",
   "name": "python3"
  },
  "language_info": {
   "codemirror_mode": {
    "name": "ipython",
    "version": 3
   },
   "file_extension": ".py",
   "mimetype": "text/x-python",
   "name": "python",
   "nbconvert_exporter": "python",
   "pygments_lexer": "ipython3",
   "version": "3.10.12"
  }
 },
 "nbformat": 4,
 "nbformat_minor": 2
}
