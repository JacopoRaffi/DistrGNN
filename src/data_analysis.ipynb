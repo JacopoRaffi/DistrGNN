{
 "cells": [
  {
   "cell_type": "markdown",
   "metadata": {},
   "source": [
    "# Perfomance Analysis"
   ]
  },
  {
   "cell_type": "code",
   "execution_count": 23,
   "metadata": {},
   "outputs": [],
   "source": [
    "import pandas as pd"
   ]
  },
  {
   "cell_type": "markdown",
   "metadata": {},
   "source": [
    "## Sequential Model"
   ]
  },
  {
   "cell_type": "code",
   "execution_count": 24,
   "metadata": {},
   "outputs": [
    {
     "data": {
      "text/html": [
       "<div>\n",
       "<style scoped>\n",
       "    .dataframe tbody tr th:only-of-type {\n",
       "        vertical-align: middle;\n",
       "    }\n",
       "\n",
       "    .dataframe tbody tr th {\n",
       "        vertical-align: top;\n",
       "    }\n",
       "\n",
       "    .dataframe thead th {\n",
       "        text-align: right;\n",
       "    }\n",
       "</style>\n",
       "<table border=\"1\" class=\"dataframe\">\n",
       "  <thead>\n",
       "    <tr style=\"text-align: right;\">\n",
       "      <th></th>\n",
       "      <th>epoch</th>\n",
       "      <th>batch</th>\n",
       "      <th>batch_time(s)</th>\n",
       "      <th>phase</th>\n",
       "    </tr>\n",
       "  </thead>\n",
       "  <tbody>\n",
       "    <tr>\n",
       "      <th>0</th>\n",
       "      <td>0</td>\n",
       "      <td>0</td>\n",
       "      <td>25.979750</td>\n",
       "      <td>train</td>\n",
       "    </tr>\n",
       "    <tr>\n",
       "      <th>1</th>\n",
       "      <td>0</td>\n",
       "      <td>1</td>\n",
       "      <td>26.016988</td>\n",
       "      <td>train</td>\n",
       "    </tr>\n",
       "    <tr>\n",
       "      <th>2</th>\n",
       "      <td>0</td>\n",
       "      <td>2</td>\n",
       "      <td>26.434223</td>\n",
       "      <td>train</td>\n",
       "    </tr>\n",
       "    <tr>\n",
       "      <th>3</th>\n",
       "      <td>0</td>\n",
       "      <td>3</td>\n",
       "      <td>25.707898</td>\n",
       "      <td>train</td>\n",
       "    </tr>\n",
       "    <tr>\n",
       "      <th>4</th>\n",
       "      <td>0</td>\n",
       "      <td>4</td>\n",
       "      <td>25.592377</td>\n",
       "      <td>train</td>\n",
       "    </tr>\n",
       "    <tr>\n",
       "      <th>5</th>\n",
       "      <td>0</td>\n",
       "      <td>5</td>\n",
       "      <td>25.641662</td>\n",
       "      <td>train</td>\n",
       "    </tr>\n",
       "    <tr>\n",
       "      <th>6</th>\n",
       "      <td>0</td>\n",
       "      <td>6</td>\n",
       "      <td>25.612364</td>\n",
       "      <td>train</td>\n",
       "    </tr>\n",
       "    <tr>\n",
       "      <th>7</th>\n",
       "      <td>0</td>\n",
       "      <td>7</td>\n",
       "      <td>25.624064</td>\n",
       "      <td>train</td>\n",
       "    </tr>\n",
       "    <tr>\n",
       "      <th>8</th>\n",
       "      <td>0</td>\n",
       "      <td>8</td>\n",
       "      <td>25.591709</td>\n",
       "      <td>train</td>\n",
       "    </tr>\n",
       "    <tr>\n",
       "      <th>9</th>\n",
       "      <td>0</td>\n",
       "      <td>9</td>\n",
       "      <td>25.612150</td>\n",
       "      <td>train</td>\n",
       "    </tr>\n",
       "  </tbody>\n",
       "</table>\n",
       "</div>"
      ],
      "text/plain": [
       "   epoch  batch  batch_time(s)  phase\n",
       "0      0      0      25.979750  train\n",
       "1      0      1      26.016988  train\n",
       "2      0      2      26.434223  train\n",
       "3      0      3      25.707898  train\n",
       "4      0      4      25.592377  train\n",
       "5      0      5      25.641662  train\n",
       "6      0      6      25.612364  train\n",
       "7      0      7      25.624064  train\n",
       "8      0      8      25.591709  train\n",
       "9      0      9      25.612150  train"
      ]
     },
     "execution_count": 24,
     "metadata": {},
     "output_type": "execute_result"
    }
   ],
   "source": [
    "LOG_FILE = '../log/seq.csv'\n",
    "\n",
    "df = pd.read_csv(LOG_FILE)\n",
    "df['phase'] = df.replace({'phase': {0: 'train', 1: 'val'}})['phase']\n",
    "df.head(n=10)"
   ]
  },
  {
   "cell_type": "code",
   "execution_count": 25,
   "metadata": {},
   "outputs": [
    {
     "data": {
      "text/plain": [
       "count    250.000000\n",
       "mean      26.080359\n",
       "std        0.344749\n",
       "min       25.577825\n",
       "25%       25.981775\n",
       "50%       26.037149\n",
       "75%       26.124101\n",
       "max       28.670659\n",
       "Name: batch_time(s), dtype: float64"
      ]
     },
     "execution_count": 25,
     "metadata": {},
     "output_type": "execute_result"
    }
   ],
   "source": [
    "df[df['phase'] == 'train']['batch_time(s)'].describe()"
   ]
  },
  {
   "cell_type": "code",
   "execution_count": 26,
   "metadata": {},
   "outputs": [
    {
     "data": {
      "text/plain": [
       "count    50.000000\n",
       "mean     10.234476\n",
       "std       0.191090\n",
       "min      10.128167\n",
       "25%      10.179445\n",
       "50%      10.208933\n",
       "75%      10.232612\n",
       "max      11.475606\n",
       "Name: batch_time(s), dtype: float64"
      ]
     },
     "execution_count": 26,
     "metadata": {},
     "output_type": "execute_result"
    }
   ],
   "source": [
    "df[df['phase'] == 'val']['batch_time(s)'].describe()"
   ]
  },
  {
   "cell_type": "code",
   "execution_count": 34,
   "metadata": {},
   "outputs": [
    {
     "data": {
      "text/plain": [
       "count       5.000000\n",
       "mean     1406.362735\n",
       "std         4.620646\n",
       "min      1401.187116\n",
       "25%      1402.878305\n",
       "50%      1405.472299\n",
       "75%      1410.945040\n",
       "max      1411.330913\n",
       "Name: batch_time(s), dtype: float64"
      ]
     },
     "execution_count": 34,
     "metadata": {},
     "output_type": "execute_result"
    }
   ],
   "source": [
    "df.groupby('epoch')['batch_time(s)'].sum().describe()"
   ]
  },
  {
   "cell_type": "markdown",
   "metadata": {},
   "source": [
    "## Pipeline Model\n",
    "\n",
    "It is necessary to study the computational time and space of the different types of layers before splitting the model. Considering that the studied model is composed of GATConv, Linear layer and Global Pool (for the graph embedding), the studies will be carried out on these three types of layers"
   ]
  },
  {
   "cell_type": "code",
   "execution_count": 17,
   "metadata": {},
   "outputs": [],
   "source": [
    "from torchvision.datasets import CIFAR10\n",
    "import torchvision.transforms as T\n",
    "import torch\n",
    "import tracemalloc\n",
    "import time\n",
    "import torch.nn.functional as F\n",
    "from torch_geometric.nn import GATConv, global_add_pool\n",
    "from torch_geometric.loader import DataLoader\n",
    "\n",
    "from data import CustomDataset, image_to_graph"
   ]
  },
  {
   "cell_type": "code",
   "execution_count": 10,
   "metadata": {},
   "outputs": [],
   "source": [
    "transform = T.ToTensor() #TODO: add the super pixel part\n",
    "\n",
    "train_dataset = CIFAR10(root='../data', train=True, download=False, transform=transform)\n",
    "\n",
    "dataset = CustomDataset(image_to_graph(train_dataset), length=100)\n",
    "\n",
    "loader = DataLoader(dataset, batch_size=50, shuffle=True)"
   ]
  },
  {
   "cell_type": "markdown",
   "metadata": {},
   "source": [
    "## GATConv Layer"
   ]
  },
  {
   "cell_type": "markdown",
   "metadata": {},
   "source": [
    "### 3x320 "
   ]
  },
  {
   "cell_type": "code",
   "execution_count": 18,
   "metadata": {},
   "outputs": [
    {
     "name": "stdout",
     "output_type": "stream",
     "text": [
      "Time: 0.49 s\n",
      "Current memory usage: 0.01 MB\n",
      "Peak memory usage: 0.02 MB\n"
     ]
    }
   ],
   "source": [
    "layer = GATConv(3, 320, heads=1)\n",
    "\n",
    "tracemalloc.start()\n",
    "\n",
    "data = next(iter(loader))\n",
    "\n",
    "start_time = time.time()\n",
    "\n",
    "output = layer(data.x, data.edge_index)\n",
    "output = F.relu(output)\n",
    "\n",
    "end_time = time.time()\n",
    "\n",
    "current, peak = tracemalloc.get_traced_memory()\n",
    "\n",
    "print(f\"Time: {end_time - start_time:.2f} s\")\n",
    "print(f\"Current memory usage: {current / 1024 ** 2:.2f} MB\")\n",
    "print(f\"Peak memory usage: {peak / 1024 ** 2:.2f} MB\")\n",
    "\n",
    "tracemalloc.stop()"
   ]
  },
  {
   "cell_type": "markdown",
   "metadata": {},
   "source": [
    "### 320x320"
   ]
  },
  {
   "cell_type": "markdown",
   "metadata": {},
   "source": [
    "### Global Add Pool"
   ]
  },
  {
   "cell_type": "markdown",
   "metadata": {},
   "source": [
    "### Linear Layer"
   ]
  }
 ],
 "metadata": {
  "kernelspec": {
   "display_name": "distr",
   "language": "python",
   "name": "python3"
  },
  "language_info": {
   "codemirror_mode": {
    "name": "ipython",
    "version": 3
   },
   "file_extension": ".py",
   "mimetype": "text/x-python",
   "name": "python",
   "nbconvert_exporter": "python",
   "pygments_lexer": "ipython3",
   "version": "3.10.12"
  }
 },
 "nbformat": 4,
 "nbformat_minor": 2
}
